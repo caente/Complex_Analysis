{
 "cells": [
  {
   "cell_type": "code",
   "execution_count": 1,
   "metadata": {},
   "outputs": [],
   "source": [
    "from sympy import *\n",
    "from sympy.abc import x, y, z, N, t,gamma, epsilon, theta, phi, rho, k,n,a\n",
    "init_printing(use_latex=True)"
   ]
  },
  {
   "cell_type": "code",
   "execution_count": 2,
   "metadata": {},
   "outputs": [
    {
     "data": {
      "image/png": "[encoded data removed]",
      "text/latex": [
       "$\\displaystyle - \\frac{2}{\\left(z - 1\\right)^{3}}$"
      ],
      "text/plain": [
       "  -2    \n",
       "────────\n",
       "       3\n",
       "(z - 1) "
      ]
     },
     "execution_count": 2,
     "metadata": {},
     "output_type": "execute_result"
    }
   ],
   "source": [
    "f = z**2\n",
    "g = z - 1\n",
    "h = 1/z\n",
    "#f o (h o g)\n",
    "hg = diff(h).subs(z,g)*diff(g)\n",
    "# f o hg\n",
    "diff(f).subs(z, h.subs(z,g))*hg"
   ]
  },
  {
   "cell_type": "code",
   "execution_count": 3,
   "metadata": {},
   "outputs": [
    {
     "data": {
      "image/png": "[encoded data removed]",
      "text/latex": [
       "$\\displaystyle x^{2} + 2 i x y + i x - y^{2} - y$"
      ],
      "text/plain": [
       " 2                    2    \n",
       "x  + 2⋅ⅈ⋅x⋅y + ⅈ⋅x - y  - y"
      ]
     },
     "execution_count": 3,
     "metadata": {},
     "output_type": "execute_result"
    }
   ],
   "source": [
    "f = z**2 + I*z\n",
    "f.subs(z, x + y*I).expand()"
   ]
  },
  {
   "cell_type": "code",
   "execution_count": 4,
   "metadata": {},
   "outputs": [
    {
     "data": {
      "image/png": "[encoded data removed]",
      "text/latex": [
       "$\\displaystyle 2 x$"
      ],
      "text/plain": [
       "2⋅x"
      ]
     },
     "execution_count": 4,
     "metadata": {},
     "output_type": "execute_result"
    }
   ],
   "source": [
    "u = x**2 - y**2 - y\n",
    "diff(u,x)"
   ]
  },
  {
   "cell_type": "code",
   "execution_count": 5,
   "metadata": {},
   "outputs": [
    {
     "data": {
      "image/png": "[encoded data removed]",
      "text/latex": [
       "$\\displaystyle 6 z^{2} - 4$"
      ],
      "text/plain": [
       "   2    \n",
       "6⋅z  - 4"
      ]
     },
     "execution_count": 5,
     "metadata": {},
     "output_type": "execute_result"
    }
   ],
   "source": [
    "f = 2*z**3 -4*z  + 1\n",
    "diff(f)"
   ]
  },
  {
   "cell_type": "code",
   "execution_count": 6,
   "metadata": {},
   "outputs": [
    {
     "data": {
      "image/png": "[encoded data removed]",
      "text/latex": [
       "$\\displaystyle 6 x^{2} + 12 i x y - 6 y^{2} - 4$"
      ],
      "text/plain": [
       "   2                 2    \n",
       "6⋅x  + 12⋅ⅈ⋅x⋅y - 6⋅y  - 4"
      ]
     },
     "execution_count": 6,
     "metadata": {},
     "output_type": "execute_result"
    }
   ],
   "source": [
    "diff(f.subs(z, x + I*y),x).expand()"
   ]
  },
  {
   "cell_type": "code",
   "execution_count": 7,
   "metadata": {},
   "outputs": [
    {
     "data": {
      "image/png": "[encoded data removed]",
      "text/latex": [
       "$\\displaystyle 6 x^{2} + 12 i x y - 6 y^{2} - 4$"
      ],
      "text/plain": [
       "   2                 2    \n",
       "6⋅x  + 12⋅ⅈ⋅x⋅y - 6⋅y  - 4"
      ]
     },
     "execution_count": 7,
     "metadata": {},
     "output_type": "execute_result"
    }
   ],
   "source": [
    "(diff(f.subs(z, x + I*y),y).expand() * -I).expand()"
   ]
  },
  {
   "cell_type": "code",
   "execution_count": 8,
   "metadata": {},
   "outputs": [
    {
     "data": {
      "image/png": "[encoded data removed]",
      "text/latex": [
       "$\\displaystyle e^{x}$"
      ],
      "text/plain": [
       " x\n",
       "ℯ "
      ]
     },
     "execution_count": 8,
     "metadata": {},
     "output_type": "execute_result"
    }
   ],
   "source": [
    "f = x - I*y\n",
    "u = x\n",
    "v = -y\n",
    "diff(v)\n",
    "diff(E**x)\n"
   ]
  },
  {
   "cell_type": "code",
   "execution_count": 9,
   "metadata": {},
   "outputs": [
    {
     "data": {
      "image/png": "[encoded data removed]",
      "text/latex": [
       "$\\displaystyle \\pi$"
      ],
      "text/plain": [
       "π"
      ]
     },
     "execution_count": 9,
     "metadata": {},
     "output_type": "execute_result"
    }
   ],
   "source": [
    "arg(E**(-2+3*I*pi))"
   ]
  },
  {
   "cell_type": "code",
   "execution_count": 10,
   "metadata": {},
   "outputs": [
    {
     "data": {
      "image/png": "[encoded data removed]",
      "text/latex": [
       "$\\displaystyle - e^{- x}$"
      ],
      "text/plain": [
       "  -x\n",
       "-ℯ  "
      ]
     },
     "execution_count": 10,
     "metadata": {},
     "output_type": "execute_result"
    }
   ],
   "source": [
    "diff(E**-x)"
   ]
  },
  {
   "cell_type": "code",
   "execution_count": 11,
   "metadata": {},
   "outputs": [
    {
     "data": {
      "image/png": "[encoded data removed]",
      "text/latex": [
       "$\\displaystyle e^{-2}$"
      ],
      "text/plain": [
       " -2\n",
       "ℯ  "
      ]
     },
     "execution_count": 11,
     "metadata": {},
     "output_type": "execute_result"
    }
   ],
   "source": [
    "z = -2 +3*I*pi\n",
    "abs(E**z)"
   ]
  },
  {
   "cell_type": "code",
   "execution_count": 12,
   "metadata": {},
   "outputs": [
    {
     "data": {
      "image/png": "[encoded data removed]",
      "text/latex": [
       "$\\displaystyle - e i + \\frac{i}{e}$"
      ],
      "text/plain": [
       "          -1\n",
       "-ℯ⋅ⅈ + ⅈ⋅ℯ  "
      ]
     },
     "execution_count": 12,
     "metadata": {},
     "output_type": "execute_result"
    }
   ],
   "source": [
    "(exp(I*(pi/2 + I)).expand() + exp(-I*(pi/2 + I)).expand()).expand()"
   ]
  },
  {
   "cell_type": "code",
   "execution_count": 13,
   "metadata": {},
   "outputs": [
    {
     "data": {
      "image/png": "[encoded data removed]",
      "text/latex": [
       "$\\displaystyle - \\frac{e i}{2} + \\frac{i}{2 e}$"
      ],
      "text/plain": [
       "           -1\n",
       "  ℯ⋅ⅈ   ⅈ⋅ℯ  \n",
       "- ─── + ─────\n",
       "   2      2  "
      ]
     },
     "execution_count": 13,
     "metadata": {},
     "output_type": "execute_result"
    }
   ],
   "source": [
    "(I*((1/E - E).factor())/2).expand()"
   ]
  },
  {
   "cell_type": "code",
   "execution_count": 14,
   "metadata": {},
   "outputs": [
    {
     "data": {
      "image/png": "[encoded data removed]",
      "text/latex": [
       "$\\displaystyle \\frac{1}{2 e} + \\frac{e}{2}$"
      ],
      "text/plain": [
       " -1    \n",
       "ℯ     ℯ\n",
       "─── + ─\n",
       " 2    2"
      ]
     },
     "execution_count": 14,
     "metadata": {},
     "output_type": "execute_result"
    }
   ],
   "source": [
    "((exp(I*(pi/2 + I)).expand() - exp(-I*(pi/2 + I)).expand())/(2*I)).expand()"
   ]
  },
  {
   "cell_type": "code",
   "execution_count": 15,
   "metadata": {},
   "outputs": [
    {
     "data": {
      "image/png": "[encoded data removed]",
      "text/latex": [
       "$\\displaystyle - \\frac{i e^{\\pi}}{2} + \\frac{i}{2 e^{\\pi}}$"
      ],
      "text/plain": [
       "     π      -π\n",
       "  ⅈ⋅ℯ    ⅈ⋅ℯ  \n",
       "- ──── + ─────\n",
       "   2       2  "
      ]
     },
     "execution_count": 15,
     "metadata": {},
     "output_type": "execute_result"
    }
   ],
   "source": [
    "w = I*pi\n",
    "z = pi/2\n",
    "\n",
    "def exp_sin(z):\n",
    "    return ((exp(I*z) - exp(-I*z))/(2*I)).expand()\n",
    "\n",
    "def exp_cos(z):\n",
    "    return ((exp(I*z) + exp(-I*z))/2).expand()\n",
    "\n",
    "exp_cos((z + w))"
   ]
  },
  {
   "cell_type": "code",
   "execution_count": 16,
   "metadata": {},
   "outputs": [
    {
     "data": {
      "image/png": "[encoded data removed]",
      "text/latex": [
       "$\\displaystyle - \\frac{i e^{\\pi}}{2} + \\frac{i}{2 e^{\\pi}}$"
      ],
      "text/plain": [
       "     π      -π\n",
       "  ⅈ⋅ℯ    ⅈ⋅ℯ  \n",
       "- ──── + ─────\n",
       "   2       2  "
      ]
     },
     "execution_count": 16,
     "metadata": {},
     "output_type": "execute_result"
    }
   ],
   "source": [
    "exp_cos(z) * exp_sin(w) - exp_sin(z)*exp_sin(w)"
   ]
  },
  {
   "cell_type": "code",
   "execution_count": 17,
   "metadata": {},
   "outputs": [
    {
     "data": {
      "image/png": "[encoded data removed]",
      "text/latex": [
       "$\\displaystyle \\frac{1}{2 e^{\\pi}} + \\frac{e^{\\pi}}{2}$"
      ],
      "text/plain": [
       " -π    π\n",
       "ℯ     ℯ \n",
       "─── + ──\n",
       " 2    2 "
      ]
     },
     "execution_count": 17,
     "metadata": {},
     "output_type": "execute_result"
    }
   ],
   "source": [
    "exp_cos(w)"
   ]
  },
  {
   "cell_type": "code",
   "execution_count": 18,
   "metadata": {},
   "outputs": [
    {
     "data": {
      "image/png": "[encoded data removed]",
      "text/latex": [
       "$\\displaystyle \\frac{1}{2 e^{\\pi}} + \\frac{e^{\\pi}}{2}$"
      ],
      "text/plain": [
       " -π    π\n",
       "ℯ     ℯ \n",
       "─── + ──\n",
       " 2    2 "
      ]
     },
     "execution_count": 18,
     "metadata": {},
     "output_type": "execute_result"
    }
   ],
   "source": [
    "exp_cos(w + 2*pi)"
   ]
  },
  {
   "cell_type": "code",
   "execution_count": 19,
   "metadata": {},
   "outputs": [
    {
     "data": {
      "image/png": "[encoded data removed]",
      "text/latex": [
       "$\\displaystyle \\frac{1}{2 e^{\\pi}} + \\frac{e^{\\pi}}{2}$"
      ],
      "text/plain": [
       " -π    π\n",
       "ℯ     ℯ \n",
       "─── + ──\n",
       " 2    2 "
      ]
     },
     "execution_count": 19,
     "metadata": {},
     "output_type": "execute_result"
    }
   ],
   "source": [
    "exp_sin(w + pi/2)"
   ]
  },
  {
   "cell_type": "code",
   "execution_count": 20,
   "metadata": {},
   "outputs": [
    {
     "data": {
      "image/png": "[encoded data removed]",
      "text/latex": [
       "$\\displaystyle \\frac{1}{2 e^{\\pi}} + \\frac{e^{\\pi}}{2}$"
      ],
      "text/plain": [
       " -π    π\n",
       "ℯ     ℯ \n",
       "─── + ──\n",
       " 2    2 "
      ]
     },
     "execution_count": 20,
     "metadata": {},
     "output_type": "execute_result"
    }
   ],
   "source": [
    "exp_cos(w)"
   ]
  },
  {
   "cell_type": "code",
   "execution_count": 21,
   "metadata": {},
   "outputs": [
    {
     "data": {
      "image/png": "[encoded data removed]",
      "text/latex": [
       "$\\displaystyle 0$"
      ],
      "text/plain": [
       "0"
      ]
     },
     "execution_count": 21,
     "metadata": {},
     "output_type": "execute_result"
    }
   ],
   "source": [
    "exp_sin(pi)"
   ]
  },
  {
   "cell_type": "code",
   "execution_count": 25,
   "metadata": {},
   "outputs": [],
   "source": [
    "\n",
    "f = (3*z**2 +I )/(z-4)\n",
    "g = (1-3*z**2)**3\n",
    "h = E**(pi*I*g)"
   ]
  },
  {
   "cell_type": "code",
   "execution_count": 33,
   "metadata": {},
   "outputs": [
    {
     "data": {
      "image/png": "[encoded data removed]",
      "text/latex": [
       "$\\displaystyle \\frac{\\pi}{2}$"
      ],
      "text/plain": [
       "π\n",
       "─\n",
       "2"
      ]
     },
     "execution_count": 33,
     "metadata": {},
     "output_type": "execute_result"
    }
   ],
   "source": [
    "z"
   ]
  }
 ],
 "metadata": {
  "interpreter": {
   "hash": "4e84edd19e837011d149f58632d375b5022af71bac064b82eb474a61a7ab1341"
  },
  "kernelspec": {
   "display_name": "SageMath 9.4",
   "language": "python",
   "name": "python3"
  },
  "language_info": {
   "codemirror_mode": {
    "name": "ipython",
    "version": 3
   },
   "file_extension": ".py",
   "mimetype": "text/x-python",
   "name": "python",
   "nbconvert_exporter": "python",
   "pygments_lexer": "ipython3",
   "version": "3.9.10"
  },
  "orig_nbformat": 4
 },
 "nbformat": 4,
 "nbformat_minor": 2
}
