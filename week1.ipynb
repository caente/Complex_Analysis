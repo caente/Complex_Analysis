{
 "cells": [
  {
   "cell_type": "code",
   "execution_count": 1,
   "metadata": {},
   "outputs": [],
   "source": [
    "from sympy import *\n",
    "from sympy.abc import x, y, z, N, t,gamma, epsilon, theta, phi, rho, k,n\n",
    "init_printing(use_latex=True)"
   ]
  },
  {
   "cell_type": "code",
   "execution_count": 2,
   "metadata": {},
   "outputs": [
    {
     "name": "stdout",
     "output_type": "stream",
     "text": [
      "e = 2*sqrt(3)*I*(1 + I)\n"
     ]
    }
   ],
   "source": [
    "z1 = 1 + I\n",
    "z2 = 1 + I * sqrt(3)\n",
    "z3 = Rational(1,2) - I *  sqrt(3)/2\n",
    "print_python(z1 * ( z2 - 2 * z3))"
   ]
  },
  {
   "cell_type": "code",
   "execution_count": 3,
   "metadata": {},
   "outputs": [
    {
     "data": {
      "image/png": "[encoded data removed]",
      "text/latex": [
       "$\\displaystyle \\frac{\\left(-1 + \\sqrt{3} i\\right) \\left(1 - i\\right)}{2}$"
      ],
      "text/plain": [
       "(-1 + √3⋅ⅈ)⋅(1 - ⅈ)\n",
       "───────────────────\n",
       "         2         "
      ]
     },
     "execution_count": 3,
     "metadata": {},
     "output_type": "execute_result"
    }
   ],
   "source": [
    "r = ((sqrt(3) + I) / (1 - I))\n",
    "r.expand().simplify()"
   ]
  },
  {
   "cell_type": "code",
   "execution_count": 4,
   "metadata": {},
   "outputs": [
    {
     "data": {
      "image/png": "[encoded data removed]",
      "text/latex": [
       "$\\displaystyle \\frac{1}{2} - \\frac{\\sqrt{3} i}{2}$"
      ],
      "text/plain": [
       "1   √3⋅ⅈ\n",
       "─ - ────\n",
       "2    2  "
      ]
     },
     "execution_count": 4,
     "metadata": {},
     "output_type": "execute_result"
    }
   ],
   "source": [
    "frac  = -pi/3\n",
    "r = 1\n",
    "s = r * cos(frac) + r * I * sin(frac)\n",
    "s"
   ]
  },
  {
   "cell_type": "code",
   "execution_count": 5,
   "metadata": {},
   "outputs": [
    {
     "data": {
      "image/png": "[encoded data removed]",
      "text/latex": [
       "$\\displaystyle \\left( \\frac{i \\pi}{3},\\right)$"
      ],
      "text/plain": [
       "⎛ⅈ⋅π ⎞\n",
       "⎜───,⎟\n",
       "⎝ 3  ⎠"
      ]
     },
     "execution_count": 5,
     "metadata": {},
     "output_type": "execute_result"
    }
   ],
   "source": [
    "exp(I*pi/3).args"
   ]
  },
  {
   "cell_type": "code",
   "execution_count": 6,
   "metadata": {},
   "outputs": [
    {
     "name": "stdout",
     "output_type": "stream",
     "text": [
      "e = sqrt(3)/2 + I/2\n"
     ]
    }
   ],
   "source": [
    "f = cos(pi/6) + sin(pi/6)*I\n",
    "print_python(f)\n"
   ]
  },
  {
   "cell_type": "markdown",
   "metadata": {},
   "source": [
    "$|e^{i\\theta}|=1$\n",
    "\n",
    "$\\overline{e^{i\\theta}} = e^{-i\\theta}$\n",
    "\n",
    "$\\frac{1}{e^{i\\theta}} = e^{-i\\theta}$\n",
    "\n",
    "$e^{i(\\theta + \\phi) = e^{i\\theta + i\\phi}}$"
   ]
  },
  {
   "cell_type": "code",
   "execution_count": 7,
   "metadata": {},
   "outputs": [
    {
     "name": "stdout",
     "output_type": "stream",
     "text": [
      "e = exp(-I*pi/12)\n"
     ]
    }
   ],
   "source": [
    "print_python(1/(E**(I*pi/12)))\n"
   ]
  },
  {
   "cell_type": "code",
   "execution_count": 8,
   "metadata": {},
   "outputs": [
    {
     "data": {
      "image/png": "[encoded data removed]",
      "text/latex": [
       "$\\displaystyle e^{\\frac{7 i \\pi}{12}}$"
      ],
      "text/plain": [
       " 7⋅ⅈ⋅π\n",
       " ─────\n",
       "   12 \n",
       "ℯ     "
      ]
     },
     "execution_count": 8,
     "metadata": {},
     "output_type": "execute_result"
    }
   ],
   "source": [
    "z1 = exp(pi/4)\n",
    "z2 = exp(pi/3)\n",
    "cos(pi/4) + sin(pi/4)*I\n",
    "cos(pi/3) + sin(pi/3)*I\n",
    "z = exp(pi/3*I + pi/4*I)\n",
    "z"
   ]
  },
  {
   "cell_type": "markdown",
   "metadata": {},
   "source": [
    "$arg(\\overline{z})=-arg(z)$\n",
    "\n",
    "$arg(\\frac{1}{z}) = -arg(z)$\n",
    "\n",
    "$arg(z_1z_2)=arg(z_1) + arg(z_2)$"
   ]
  },
  {
   "cell_type": "code",
   "execution_count": 9,
   "metadata": {},
   "outputs": [
    {
     "data": {
      "image/png": "[encoded data removed]",
      "text/latex": [
       "$\\displaystyle 6 i e^{\\frac{i \\pi}{4}}$"
      ],
      "text/plain": [
       "     ⅈ⋅π\n",
       "     ───\n",
       "      4 \n",
       "6⋅ⅈ⋅ℯ   "
      ]
     },
     "execution_count": 9,
     "metadata": {},
     "output_type": "execute_result"
    }
   ],
   "source": [
    "z1 = 3 * exp(I*(pi/2))\n",
    "z2 =2*exp(I*(pi/4))\n",
    "theta = pi/2 + pi/4\n",
    "theta\n",
    "#print_python(6*E**(theta*I))\n",
    "(3 * exp(I*(pi/2)))*(2*exp(I*(pi/4)))"
   ]
  },
  {
   "cell_type": "code",
   "execution_count": 10,
   "metadata": {},
   "outputs": [
    {
     "data": {
      "image/png": "[encoded data removed]",
      "text/latex": [
       "$\\displaystyle \\sqrt{2} e^{\\frac{\\pi}{4}}$"
      ],
      "text/plain": [
       "    π\n",
       "    ─\n",
       "    4\n",
       "√2⋅ℯ "
      ]
     },
     "execution_count": 10,
     "metadata": {},
     "output_type": "execute_result"
    }
   ],
   "source": [
    "e = sqrt(2) * exp(pi/4)\n",
    "e"
   ]
  },
  {
   "cell_type": "code",
   "execution_count": 11,
   "metadata": {},
   "outputs": [
    {
     "data": {
      "image/png": "[encoded data removed]",
      "text/latex": [
       "$\\displaystyle 1 + i$"
      ],
      "text/plain": [
       "1 + ⅈ"
      ]
     },
     "execution_count": 11,
     "metadata": {},
     "output_type": "execute_result"
    }
   ],
   "source": [
    "z = (sqrt(2)*(cos(pi/4) + I * sin(pi/4))).expand()\n",
    "z"
   ]
  },
  {
   "cell_type": "code",
   "execution_count": 12,
   "metadata": {},
   "outputs": [
    {
     "data": {
      "image/png": "[encoded data removed]",
      "text/latex": [
       "$\\displaystyle -1024$"
      ],
      "text/plain": [
       "-1024"
      ]
     },
     "execution_count": 12,
     "metadata": {},
     "output_type": "execute_result"
    }
   ],
   "source": [
    "ep = 2**10 * exp(5*pi)\n",
    "2**10*(cos(5*pi) + I * sin(5*pi))"
   ]
  },
  {
   "cell_type": "markdown",
   "metadata": {},
   "source": [
    "The nth root of a complex number $w$ is a complex number $z$ such that $z^n=w$\n",
    "\n",
    "$w = {\\rho}e^{i\\phi}$\n",
    "\n",
    "$w^{\\frac{1}{n}} = \\sqrt[^n]{\\rho}e^{i(\\frac{\\phi}{n}+\\frac{2k\\pi}{n})}$, where $k=0,1,2,3,...n-1$\n",
    "\n",
    "i.e. There are $n$ ***distinct*** roots of $w$\n",
    "\n",
    "Choosing $\\phi = Arg(w)$ and $k=0$:\n",
    "\n",
    "Principal root of $w=\\sqrt[^n]{\\rho}e^{i\\frac{Arg(w)}{n}}$ "
   ]
  },
  {
   "cell_type": "code",
   "execution_count": 13,
   "metadata": {},
   "outputs": [
    {
     "data": {
      "image/png": "[encoded data removed]",
      "text/latex": [
       "$\\displaystyle \\sqrt{5}$"
      ],
      "text/plain": [
       "√5"
      ]
     },
     "execution_count": 13,
     "metadata": {},
     "output_type": "execute_result"
    }
   ],
   "source": [
    "w = 5 + 10*I\n",
    "rho = Abs(w)\n",
    "#cbrt(rho)*exp(I*(phi/3))\n",
    "cbrt(sqrt(5**2 + 10**2))"
   ]
  },
  {
   "cell_type": "code",
   "execution_count": 14,
   "metadata": {},
   "outputs": [
    {
     "data": {
      "image/png": "[encoded data removed]",
      "text/latex": [
       "$\\displaystyle 2 e^{\\frac{i \\pi}{6}}$"
      ],
      "text/plain": [
       "   ⅈ⋅π\n",
       "   ───\n",
       "    6 \n",
       "2⋅ℯ   "
      ]
     },
     "execution_count": 14,
     "metadata": {},
     "output_type": "execute_result"
    }
   ],
   "source": [
    "c = 8*exp(I*pi/2)\n",
    "r = 2*exp(I*(pi/6 + 2*k*pi/3))\n",
    "r.subs(k,0)"
   ]
  },
  {
   "cell_type": "markdown",
   "metadata": {},
   "source": [
    "root of unity:\n",
    "$1^{\\frac{1}{n}}=e^{\\frac{i2k\\pi}{n}}$, where $k=0,1,2,...,n$"
   ]
  },
  {
   "cell_type": "code",
   "execution_count": 15,
   "metadata": {},
   "outputs": [
    {
     "data": {
      "image/png": "[encoded data removed]",
      "text/latex": [
       "$\\displaystyle \\left[ 1, \\  -1, \\  1\\right]$"
      ],
      "text/plain": [
       "[1, -1, 1]"
      ]
     },
     "execution_count": 15,
     "metadata": {},
     "output_type": "execute_result"
    }
   ],
   "source": [
    "un =exp(I*2*k*pi/n).subs(n,2) \n",
    "[un.subs(k,j) for j in range(0,3)]\n"
   ]
  },
  {
   "cell_type": "markdown",
   "metadata": {},
   "source": [
    "### Sets in the complex plane ###\n",
    "\n",
    "- Cirles and disks: center = $z_0 = x_0 +iy_0$, radius $r$\n",
    "    - $B_r(z_0) =$ {$z \\in \\mathbb{C}$ : $z$ has distance less than $r$ from $z_0$} disk of radious $r$, centered at $z_0$\n",
    "    - $K_r(z_0) =$ {$z \\in \\mathbb{C}$ : $z$ has distance $r$ from $z_0$} circle of radius $r$, centered at $z_0$\n",
    "\n",
    "\n",
    "If the distance between two complex numbers $z_0$ and $z$ is $|z - z_0|$\n",
    "\n",
    "Then:\n",
    "- $B_r(z_0)=$ {$z \\in \\mathbb{C} : |z - z_0| < r$}\n",
    "- $K_r(z_0)=$ {$z \\in \\mathbb{C} : |z - z_0| = r$}\n"
   ]
  },
  {
   "cell_type": "markdown",
   "metadata": {},
   "source": [
    "#### Interior points\n",
    "\n",
    "Let $E \\sub \\mathbb{C}$. A point $z_0$ is an _interior_ point of $E$ if there is some $r>0$ such that $B_r(z_0) \\sub E$\n",
    "i.e. the disk of radious $r$ with center at $z_0$ that is completely contained in $E$\n",
    "\n",
    "#### Boundary points\n",
    "\n",
    "Let $E \\sub \\mathbb{C}$. A point $b$ is a boundary point of $E$ if every disk around $b$ contains a point in $E$ and a point ***not*** in $E$\n",
    "\n",
    "The boundary of the set $E \\sub \\mathbb{C}$, $\\delta{E}$, is the set of all boundary points."
   ]
  },
  {
   "cell_type": "markdown",
   "metadata": {},
   "source": [
    "**Open Set**: A set $U \\sub \\mathbb{C}$ is _open_ if every one of its points is an interior point.\n",
    "\n",
    "**Closed Set**: A set $A \\sub \\mathbb{C}$ is _closed_ if it contains all of its boundary points."
   ]
  },
  {
   "cell_type": "markdown",
   "metadata": {},
   "source": [
    "### Closure of a set\n",
    "\n",
    "The closure of $E$ is the set $E$ together with its boundary points: $\\overline{E}=E \\cup \\delta{E}$\n",
    "\n",
    "### Interior fo a set\n",
    "\n",
    "The interior of a $E$ is a set $\\mathring{E}$ is the set of all interior points of $E$"
   ]
  },
  {
   "cell_type": "markdown",
   "metadata": {},
   "source": [
    "### Connectedness\n",
    "\n",
    "Two sets $X$, $Y$ in $\\mathbb{C}$ are _separated_ if there are disjoint open set $U$, $V$ so that $X \\sub U$ and $Y \\sub V$. A set $W$ in $\\mathbb{C}$ is _connected_ if it is impossible to find two separated non-empty sets whose union equals $W$."
   ]
  },
  {
   "cell_type": "markdown",
   "metadata": {},
   "source": [
    "### Theorem\n",
    "Let $G$ be an open set in $\\mathbb{C}$. Then $G$ is connected if and only if any two points in $G$ can be joined in $G$ by successive line segments."
   ]
  },
  {
   "cell_type": "markdown",
   "metadata": {},
   "source": [
    "### Bounded Sets\n",
    "\n",
    "A set $A$ in $\\mathbb{C}$ is _bounded_ if there exists a number $R > 0$ such that $A \\sub B_R(0)$. If no such $R$ exists, then $A$ is called _unbounded_"
   ]
  },
  {
   "cell_type": "code",
   "execution_count": 16,
   "metadata": {},
   "outputs": [
    {
     "data": {
      "image/png": "[encoded data removed]",
      "text/latex": [
       "$\\displaystyle -9 - 6 i$"
      ],
      "text/plain": [
       "-9 - 6⋅ⅈ"
      ]
     },
     "execution_count": 16,
     "metadata": {},
     "output_type": "execute_result"
    }
   ],
   "source": [
    "z = 2 - 3*I\n",
    "(z**2 - 2 * z).expand()"
   ]
  },
  {
   "cell_type": "code",
   "execution_count": 17,
   "metadata": {},
   "outputs": [
    {
     "data": {
      "image/png": "[encoded data removed]",
      "text/latex": [
       "$\\displaystyle \\frac{\\pi}{4}$"
      ],
      "text/plain": [
       "π\n",
       "─\n",
       "4"
      ]
     },
     "execution_count": 17,
     "metadata": {},
     "output_type": "execute_result"
    }
   ],
   "source": [
    "z = -3 + 3*I\n",
    "w = 2*exp(-I*pi/2)\n",
    "r = Abs(z + w)\n",
    "z + w\n",
    "acos(-3/r)\n",
    "-3/r\n",
    "p = (z * w).expand()\n",
    "r = Abs(p)\n",
    "acos(6/r)\n",
    "\n"
   ]
  },
  {
   "cell_type": "code",
   "execution_count": 18,
   "metadata": {},
   "outputs": [
    {
     "data": {
      "image/png": "[encoded data removed]",
      "text/latex": [
       "$\\displaystyle e^{\\frac{i \\phi}{n}}$"
      ],
      "text/plain": [
       " ⅈ⋅φ\n",
       " ───\n",
       "  n \n",
       "ℯ   "
      ]
     },
     "execution_count": 18,
     "metadata": {},
     "output_type": "execute_result"
    }
   ],
   "source": [
    "un =exp(I*phi/n)\n",
    "un"
   ]
  },
  {
   "cell_type": "code",
   "execution_count": 19,
   "metadata": {},
   "outputs": [
    {
     "data": {
      "image/png": "[encoded data removed]",
      "text/latex": [
       "$\\displaystyle 2 \\sqrt{2} + 2 \\sqrt{2} i$"
      ],
      "text/plain": [
       "2⋅√2 + 2⋅√2⋅ⅈ"
      ]
     },
     "execution_count": 19,
     "metadata": {},
     "output_type": "execute_result"
    }
   ],
   "source": [
    "z = -I\n",
    "z = 0*cos(phi) + sin(phi)*I\n",
    "z.subs(phi,-pi/2)\n",
    "cbrt(exp(-pi/2*I)).evalf()\n",
    "#e = un.subs(rho, 1).subs(n,3).subs(phi, -pi/2)\n",
    "#e.evalf()\n",
    "#cb = cos(pi/3) + sin(pi/3)*I\n",
    "#cbrt(-1).evalf(), cb.evalf(), e.evalf()\n",
    "z = -8*I\n",
    "8*exp(-I*pi/2)\n",
    "un.subs(rho, 2).subs(n,3).subs(phi, -pi/2)\n",
    "2*cos(-pi/6) + 2*sin(-pi/6)*I # sqrt(3) - I\n",
    "4 * un.subs(phi, pi/2).subs(n,2)\n",
    "4*cos(pi/4) + 4*I*sin(pi/4)\n"
   ]
  },
  {
   "cell_type": "code",
   "execution_count": 20,
   "metadata": {},
   "outputs": [
    {
     "data": {
      "image/png": "[encoded data removed]",
      "text/latex": [
       "$\\displaystyle \\frac{2}{3}$"
      ],
      "text/plain": [
       "2/3"
      ]
     },
     "execution_count": 20,
     "metadata": {},
     "output_type": "execute_result"
    }
   ],
   "source": [
    "Abs(I + I/3)\n",
    "Abs(I/3)*2"
   ]
  },
  {
   "cell_type": "code",
   "execution_count": 21,
   "metadata": {},
   "outputs": [
    {
     "data": {
      "image/png": "[encoded data removed]",
      "text/latex": [
       "$\\displaystyle 32 i$"
      ],
      "text/plain": [
       "32⋅ⅈ"
      ]
     },
     "execution_count": 21,
     "metadata": {},
     "output_type": "execute_result"
    }
   ],
   "source": [
    "2**8 * (cos(8*pi/12) + I * sin(8*pi/12))\n",
    "cos(2*pi/6)+ I * sin(2*pi/6)\n",
    "sqrt(2)**10 *(cos(10*pi/20) + I * sin(10*pi/20))"
   ]
  },
  {
   "cell_type": "code",
   "execution_count": null,
   "metadata": {},
   "outputs": [],
   "source": []
  }
 ],
 "metadata": {
  "interpreter": {
   "hash": "4e84edd19e837011d149f58632d375b5022af71bac064b82eb474a61a7ab1341"
  },
  "kernelspec": {
   "display_name": "Python 3.9.5 64-bit ('base': conda)",
   "language": "python",
   "name": "python3"
  },
  "language_info": {
   "codemirror_mode": {
    "name": "ipython",
    "version": 3
   },
   "file_extension": ".py",
   "mimetype": "text/x-python",
   "name": "python",
   "nbconvert_exporter": "python",
   "pygments_lexer": "ipython3",
   "version": "3.9.5"
  },
  "orig_nbformat": 4
 },
 "nbformat": 4,
 "nbformat_minor": 2
}
