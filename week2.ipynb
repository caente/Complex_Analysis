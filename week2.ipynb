{
 "cells": [
  {
   "cell_type": "code",
   "execution_count": 49,
   "metadata": {},
   "outputs": [],
   "source": [
    "from sympy import *\n",
    "from sympy.abc import x, y, z, N, t,gamma, epsilon, theta, phi, rho, k,n,a\n",
    "init_printing(use_latex=True)"
   ]
  },
  {
   "cell_type": "code",
   "execution_count": 50,
   "metadata": {},
   "outputs": [],
   "source": [
    "G = 1/(1-x**2)\n",
    "H = 1/(1+x**2)\n",
    "A = 1/(a-x)"
   ]
  },
  {
   "cell_type": "code",
   "execution_count": 51,
   "metadata": {},
   "outputs": [
    {
     "data": {
      "image/png": "[encoded data removed]",
      "text/latex": [
       "$\\displaystyle \\frac{\\left(- k + x\\right)^{5}}{\\left(a - k\\right)^{6}} + \\frac{\\left(- k + x\\right)^{4}}{\\left(a - k\\right)^{5}} + \\frac{\\left(- k + x\\right)^{3}}{\\left(a - k\\right)^{4}} + \\frac{\\left(- k + x\\right)^{2}}{\\left(a - k\\right)^{3}} + \\frac{- k + x}{\\left(a - k\\right)^{2}} + \\frac{1}{a - k} + O\\left(\\left(- k + x\\right)^{6}; x\\rightarrow k\\right)$"
      ],
      "text/plain": [
       "        5           4           3           2                                 \n",
       "(-k + x)    (-k + x)    (-k + x)    (-k + x)     -k + x      1      ⎛        6\n",
       "───────── + ───────── + ───────── + ───────── + ──────── + ───── + O⎝(-k + x) \n",
       "        6           5           4           3          2   a - k              \n",
       " (a - k)     (a - k)     (a - k)     (a - k)    (a - k)                       \n",
       "\n",
       "        \n",
       "       ⎞\n",
       "; x → k⎠\n",
       "        \n",
       "        "
      ]
     },
     "execution_count": 51,
     "metadata": {},
     "output_type": "execute_result"
    }
   ],
   "source": [
    "series(A,x=x,x0=k)"
   ]
  },
  {
   "cell_type": "code",
   "execution_count": 52,
   "metadata": {},
   "outputs": [
    {
     "data": {
      "image/png": "[encoded data removed]",
      "text/latex": [
       "$\\displaystyle - \\frac{1}{- 2 x - 2} + \\frac{1}{2 - 2 x}$"
      ],
      "text/plain": [
       "     1          1   \n",
       "- ──────── + ───────\n",
       "  -2⋅x - 2   2 - 2⋅x"
      ]
     },
     "execution_count": 52,
     "metadata": {},
     "output_type": "execute_result"
    }
   ],
   "source": [
    "(Rational(1,2)*(1/(1-x) - 1/(-1-x))).expand()"
   ]
  },
  {
   "cell_type": "code",
   "execution_count": 53,
   "metadata": {},
   "outputs": [
    {
     "data": {
      "image/png": "[encoded data removed]",
      "text/latex": [
       "$\\displaystyle - 4 x$"
      ],
      "text/plain": [
       "-4⋅x"
      ]
     },
     "execution_count": 53,
     "metadata": {},
     "output_type": "execute_result"
    }
   ],
   "source": [
    "((-2*x - 2)  + (2-2*x)).expand()"
   ]
  },
  {
   "cell_type": "code",
   "execution_count": 54,
   "metadata": {},
   "outputs": [
    {
     "data": {
      "image/png": "[encoded data removed]",
      "text/latex": [
       "$\\displaystyle \\frac{z - 3 - 4 i}{x - 3}$"
      ],
      "text/plain": [
       "z - 3 - 4⋅ⅈ\n",
       "───────────\n",
       "   x - 3   "
      ]
     },
     "execution_count": 54,
     "metadata": {},
     "output_type": "execute_result"
    }
   ],
   "source": [
    "#z = x + I*y\n",
    "e2 = (z - 3 - 4 *I)/(x -3)\n",
    "e3 = (z**2 - z*(6 + 8*I) - 7 + 24*I)/( z - 3 - 4 *I)\n",
    "e4 = z**2 - I*x + y\n",
    "e2"
   ]
  },
  {
   "cell_type": "code",
   "execution_count": 55,
   "metadata": {},
   "outputs": [
    {
     "data": {
      "image/png": "[encoded data removed]",
      "text/latex": [
       "$\\displaystyle 0$"
      ],
      "text/plain": [
       "0"
      ]
     },
     "execution_count": 55,
     "metadata": {},
     "output_type": "execute_result"
    }
   ],
   "source": [
    "z0 = 3 + 4 *I\n",
    "limit(e2, z, z0)"
   ]
  },
  {
   "cell_type": "code",
   "execution_count": 56,
   "metadata": {},
   "outputs": [
    {
     "data": {
      "image/png": "[encoded data removed]",
      "text/latex": [
       "$\\displaystyle \\frac{x + i y - 3 - 4 i}{x - 3}$"
      ],
      "text/plain": [
       "x + ⅈ⋅y - 3 - 4⋅ⅈ\n",
       "─────────────────\n",
       "      x - 3      "
      ]
     },
     "execution_count": 56,
     "metadata": {},
     "output_type": "execute_result"
    }
   ],
   "source": [
    "e2.subs(z,x + y*I)"
   ]
  },
  {
   "cell_type": "code",
   "execution_count": 57,
   "metadata": {},
   "outputs": [
    {
     "data": {
      "image/png": "[encoded data removed]",
      "text/latex": [
       "$\\displaystyle 1 + \\frac{-3 - 4 i}{x - 3}$"
      ],
      "text/plain": [
       "    -3 - 4⋅ⅈ\n",
       "1 + ────────\n",
       "     x - 3  "
      ]
     },
     "execution_count": 57,
     "metadata": {},
     "output_type": "execute_result"
    }
   ],
   "source": [
    "((x-3)/(x-3) + (-3-4*I)/(x-3))"
   ]
  },
  {
   "cell_type": "code",
   "execution_count": 58,
   "metadata": {},
   "outputs": [
    {
     "data": {
      "image/png": "[encoded data removed]",
      "text/latex": [
       "$\\displaystyle 0$"
      ],
      "text/plain": [
       "0"
      ]
     },
     "execution_count": 58,
     "metadata": {},
     "output_type": "execute_result"
    }
   ],
   "source": [
    "limit(limit(e3.subs(z, x + y*I).factor(),x,3),y,4)"
   ]
  },
  {
   "cell_type": "code",
   "execution_count": 59,
   "metadata": {},
   "outputs": [
    {
     "data": {
      "image/png": "[encoded data removed]",
      "text/latex": [
       "$\\displaystyle -3 + 21 i$"
      ],
      "text/plain": [
       "-3 + 21⋅ⅈ"
      ]
     },
     "execution_count": 59,
     "metadata": {},
     "output_type": "execute_result"
    }
   ],
   "source": [
    "e4.subs(z,x + y*I).expand().subs(x,3).subs(y,4)"
   ]
  },
  {
   "cell_type": "code",
   "execution_count": 60,
   "metadata": {},
   "outputs": [
    {
     "data": {
      "image/png": "[encoded data removed]",
      "text/latex": [
       "$\\displaystyle \\frac{x + i y - 3 - 4 i}{x - 3}$"
      ],
      "text/plain": [
       "x + ⅈ⋅y - 3 - 4⋅ⅈ\n",
       "─────────────────\n",
       "      x - 3      "
      ]
     },
     "execution_count": 60,
     "metadata": {},
     "output_type": "execute_result"
    }
   ],
   "source": [
    "e2.subs(z, x + y*I)"
   ]
  },
  {
   "cell_type": "code",
   "execution_count": 61,
   "metadata": {},
   "outputs": [],
   "source": [
    "f = z**2 + 1\n",
    "g = z**3"
   ]
  },
  {
   "cell_type": "code",
   "execution_count": 62,
   "metadata": {},
   "outputs": [
    {
     "data": {
      "image/png": "[encoded data removed]",
      "text/latex": [
       "$\\displaystyle z^{9}$"
      ],
      "text/plain": [
       " 9\n",
       "z "
      ]
     },
     "execution_count": 62,
     "metadata": {},
     "output_type": "execute_result"
    }
   ],
   "source": [
    "r = z\n",
    "for _ in range(0,2):\n",
    "    r =  g.subs(z,r)\n",
    "r.expand()"
   ]
  },
  {
   "cell_type": "code",
   "execution_count": 63,
   "metadata": {},
   "outputs": [
    {
     "name": "stdout",
     "output_type": "stream",
     "text": [
      "e = 9 - 6*sqrt(5 + I) + I\n"
     ]
    }
   ],
   "source": [
    "p = z**2 + 6 * z + 1\n",
    "phi = z + 3\n",
    "phi_inv = z - 3\n",
    "form = compose(compose(phi, p),phi_inv)\n",
    "r = z\n",
    "for _ in range(0,2):\n",
    "    r =  form.subs(z,sqrt(I + 5) - 3)\n",
    "print_python( r.expand())\n",
    "\n"
   ]
  },
  {
   "cell_type": "code",
   "execution_count": null,
   "metadata": {},
   "outputs": [],
   "source": []
  },
  {
   "cell_type": "code",
   "execution_count": 64,
   "metadata": {},
   "outputs": [
    {
     "data": {
      "image/png": "[encoded data removed]",
      "text/latex": [
       "$\\displaystyle -6 - i$"
      ],
      "text/plain": [
       "-6 - ⅈ"
      ]
     },
     "execution_count": 64,
     "metadata": {},
     "output_type": "execute_result"
    }
   ],
   "source": [
    "e4 = 2*x - 3*y + I* (x-y)\n",
    "e4.subs(x,3).subs(y,4)"
   ]
  },
  {
   "cell_type": "code",
   "execution_count": 65,
   "metadata": {},
   "outputs": [
    {
     "data": {
      "image/png": "[encoded data removed]",
      "text/latex": [
       "$\\displaystyle \\frac{x + i y - 3 - 4 i}{x - 3}$"
      ],
      "text/plain": [
       "x + ⅈ⋅y - 3 - 4⋅ⅈ\n",
       "─────────────────\n",
       "      x - 3      "
      ]
     },
     "execution_count": 65,
     "metadata": {},
     "output_type": "execute_result"
    }
   ],
   "source": [
    "e3 = (z - 3 - 4*I)/(x-3)\n",
    "e3.subs(z, x + y*I)"
   ]
  },
  {
   "cell_type": "code",
   "execution_count": 66,
   "metadata": {},
   "outputs": [
    {
     "data": {
      "image/png": "[encoded data removed]",
      "text/latex": [
       "$\\displaystyle 6 + 8 i$"
      ],
      "text/plain": [
       "6 + 8⋅ⅈ"
      ]
     },
     "execution_count": 66,
     "metadata": {},
     "output_type": "execute_result"
    }
   ],
   "source": [
    "e2 = (z**2 + 7 - 24*I)/(z - 3 - 4*I)\n",
    "e2.subs(z, x + y *I).factor().subs(x,3).subs(y,4)"
   ]
  },
  {
   "cell_type": "code",
   "execution_count": 68,
   "metadata": {},
   "outputs": [
    {
     "data": {
      "image/png": "[encoded data removed]",
      "text/latex": [
       "$\\displaystyle 73$"
      ],
      "text/plain": [
       "73"
      ]
     },
     "execution_count": 68,
     "metadata": {},
     "output_type": "execute_result"
    }
   ],
   "source": [
    "p = z**2 + 6 * z + 1\n",
    "phi = z + 3\n",
    "phi_inv = z - 3\n",
    "f = compose(compose(phi, p),phi_inv)\n",
    "r = z\n",
    "for _ in range(0,2):\n",
    "    r =  f.subs(z,r)\n",
    "compose(compose(phi_inv, r),phi).subs(z, -3 + 2* I).expand()"
   ]
  },
  {
   "cell_type": "code",
   "execution_count": null,
   "metadata": {},
   "outputs": [],
   "source": []
  }
 ],
 "metadata": {
  "interpreter": {
   "hash": "4e84edd19e837011d149f58632d375b5022af71bac064b82eb474a61a7ab1341"
  },
  "kernelspec": {
   "display_name": "SageMath 9.4",
   "language": "python",
   "name": "python3"
  },
  "language_info": {
   "codemirror_mode": {
    "name": "ipython",
    "version": 3
   },
   "file_extension": ".py",
   "mimetype": "text/x-python",
   "name": "python",
   "nbconvert_exporter": "python",
   "pygments_lexer": "ipython3",
   "version": "3.9.5"
  },
  "orig_nbformat": 4
 },
 "nbformat": 4,
 "nbformat_minor": 2
}
