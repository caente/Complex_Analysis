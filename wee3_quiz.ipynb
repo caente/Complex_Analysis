{
 "cells": [
  {
   "cell_type": "code",
   "execution_count": 1,
   "metadata": {},
   "outputs": [],
   "source": [
    "from sympy import *\n",
    "from sympy.abc import x, y, z, N, t,gamma, epsilon, theta, phi, rho, k,n,a\n",
    "init_printing(use_latex=True)"
   ]
  },
  {
   "cell_type": "code",
   "execution_count": 3,
   "metadata": {},
   "outputs": [],
   "source": [
    "\n",
    "f = (3*z**2 +I )/(z-4)\n",
    "g = (1-3*z**2)**3\n",
    "h = E**(pi*I*g)"
   ]
  },
  {
   "cell_type": "code",
   "execution_count": 58,
   "metadata": {},
   "outputs": [
    {
     "data": {
      "image/png": "[encoded data removed]",
      "text/latex": [
       "$\\displaystyle - 288 i$"
      ],
      "text/plain": [
       "-288⋅ⅈ"
      ]
     },
     "execution_count": 58,
     "metadata": {},
     "output_type": "execute_result"
    }
   ],
   "source": [
    "g.diff(z).subs(z,I)\n",
    "#h.diff(z).subs(z,I)"
   ]
  },
  {
   "cell_type": "code",
   "execution_count": 18,
   "metadata": {},
   "outputs": [
    {
     "data": {
      "image/png": "[encoded data removed]",
      "text/latex": [
       "$\\displaystyle i x^{2} - 2 x y - 2 i x - i y^{2} + 2 y + 1 + i$"
      ],
      "text/plain": [
       "   2                      2              \n",
       "ⅈ⋅x  - 2⋅x⋅y - 2⋅ⅈ⋅x - ⅈ⋅y  + 2⋅y + 1 + ⅈ"
      ]
     },
     "execution_count": 18,
     "metadata": {},
     "output_type": "execute_result"
    }
   ],
   "source": [
    "f = I*(z -1)**2 + 1\n",
    "f.subs(z,x + y*I).expand()"
   ]
  },
  {
   "cell_type": "code",
   "execution_count": 25,
   "metadata": {},
   "outputs": [
    {
     "data": {
      "text/plain": [
       "{'u_x': -2*y, 'u_y': 2 - 2*x, 'v_x': 2*x - 2, 'v_y': -2*y}"
      ]
     },
     "execution_count": 25,
     "metadata": {},
     "output_type": "execute_result"
    }
   ],
   "source": [
    "u = 2*y -2*x*y +1\n",
    "v = x**2 - y**2 + -2 *x + 1\n",
    "u_x = u.diff(x)\n",
    "u_y = u.diff(y)\n",
    "v_x = v.diff(x)\n",
    "v_y = v.diff(y)\n",
    "{\n",
    "    'u_x': u_x,\n",
    "    'u_y':u_y,\n",
    "    'v_x':v_x,\n",
    "    'v_y':v_y\n",
    "}"
   ]
  },
  {
   "cell_type": "code",
   "execution_count": 46,
   "metadata": {},
   "outputs": [
    {
     "data": {
      "image/png": "[encoded data removed]",
      "text/latex": [
       "$\\displaystyle e^{- y} e^{i x}$"
      ],
      "text/plain": [
       " -y  ⅈ⋅x\n",
       "ℯ  ⋅ℯ   "
      ]
     },
     "execution_count": 46,
     "metadata": {},
     "output_type": "execute_result"
    }
   ],
   "source": [
    "f = exp(I*z)\n",
    "f.subs(z, x + y*I).expand()"
   ]
  },
  {
   "cell_type": "code",
   "execution_count": 54,
   "metadata": {},
   "outputs": [
    {
     "data": {
      "image/png": "[encoded data removed]",
      "text/latex": [
       "$\\displaystyle e^{- \\operatorname{im}{\\left(z\\right)}}$"
      ],
      "text/plain": [
       " -im(z)\n",
       "ℯ      "
      ]
     },
     "execution_count": 54,
     "metadata": {},
     "output_type": "execute_result"
    }
   ],
   "source": [
    "abs(f)"
   ]
  },
  {
   "cell_type": "code",
   "execution_count": 55,
   "metadata": {},
   "outputs": [
    {
     "data": {
      "image/png": "[encoded data removed]",
      "text/latex": [
       "$\\displaystyle \\cosh{\\left(2 \\right)}$"
      ],
      "text/plain": [
       "cosh(2)"
      ]
     },
     "execution_count": 55,
     "metadata": {},
     "output_type": "execute_result"
    }
   ],
   "source": [
    "sin(x +y*I ).subs(x,pi/2).subs(y,2)"
   ]
  },
  {
   "cell_type": "code",
   "execution_count": null,
   "metadata": {},
   "outputs": [],
   "source": []
  }
 ],
 "metadata": {
  "interpreter": {
   "hash": "4e84edd19e837011d149f58632d375b5022af71bac064b82eb474a61a7ab1341"
  },
  "kernelspec": {
   "display_name": "SageMath 9.4",
   "language": "python",
   "name": "python3"
  },
  "language_info": {
   "codemirror_mode": {
    "name": "ipython",
    "version": 3
   },
   "file_extension": ".py",
   "mimetype": "text/x-python",
   "name": "python",
   "nbconvert_exporter": "python",
   "pygments_lexer": "ipython3",
   "version": "3.9.10"
  },
  "orig_nbformat": 4
 },
 "nbformat": 4,
 "nbformat_minor": 2
}
